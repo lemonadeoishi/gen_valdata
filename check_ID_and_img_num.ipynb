{
 "cells": [
  {
   "cell_type": "code",
   "execution_count": null,
   "metadata": {},
   "outputs": [],
   "source": []
  },
  {
   "cell_type": "code",
   "execution_count": 3,
   "metadata": {},
   "outputs": [
    {
     "name": "stdout",
     "output_type": "stream",
     "text": [
      "合計のクラス数: 10000\n",
      "合計のイメージ数: 550000\n",
      "55枚あるクラス: 10000クラス\n"
     ]
    }
   ],
   "source": [
    "import os\n",
    "import glob\n",
    "from collections import defaultdict\n",
    "\n",
    "# 指定されたディレクトリ\n",
    "dir_path = \"/workspace/dataset/train/dcface/dcface_0.5m\"\n",
    "\n",
    "# サブディレクトリのリストを取得\n",
    "subdirs = [d for d in os.listdir(dir_path) if os.path.isdir(os.path.join(dir_path, d))]\n",
    "\n",
    "total_images = 0\n",
    "print(f\"合計のクラス数: {len(subdirs)}\")\n",
    "\n",
    "# 各サブディレクトリの画像数をカウント\n",
    "class_counts = defaultdict(int)\n",
    "for subdir in subdirs:\n",
    "    images = glob.glob(os.path.join(dir_path, subdir, \"*.jpg\"))  # jpg画像を探す\n",
    "    num_images = len(images)\n",
    "    total_images += num_images\n",
    "    class_counts[num_images] += 1\n",
    "\n",
    "print(f\"合計のイメージ数: {total_images}\")\n",
    "\n",
    "# 各画像数を持つクラスの数を表示\n",
    "for num_images, num_classes in class_counts.items():\n",
    "    print(f\"{num_images}枚あるクラス: {num_classes}クラス\")"
   ]
  }
 ],
 "metadata": {
  "kernelspec": {
   "display_name": "Python 3",
   "language": "python",
   "name": "python3"
  },
  "language_info": {
   "codemirror_mode": {
    "name": "ipython",
    "version": 3
   },
   "file_extension": ".py",
   "mimetype": "text/x-python",
   "name": "python",
   "nbconvert_exporter": "python",
   "pygments_lexer": "ipython3",
   "version": "3.7.1"
  }
 },
 "nbformat": 4,
 "nbformat_minor": 2
}
