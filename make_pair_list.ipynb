{
 "cells": [
  {
   "cell_type": "code",
   "execution_count": 8,
   "metadata": {},
   "outputs": [
    {
     "name": "stdout",
     "output_type": "stream",
     "text": [
      "[['3566', '2291', '3397', '5403', '40', '3894', '993', '6337', '7798', '6219'], ['7813', '8125', '5024', '1690', '4903', '6844', '4237', '2723', '1772', '34'], ['4559', '5340', '4652', '1122'], ['4002', '4207', '9993', '8969', '5724', '1708', '7329'], ['7859', '3114', '1957', '7188', '1030', '9007', '1008', '2176', '2156', '4772'], ['8929', '6198', '5992', '5838', '3252', '7549', '9210', '8004', '9940', '9979'], ['2739', '4680', '2585', '920', '474', '8309', '2074', '9815', '482', '4902'], ['5777', '7334', '6738', '4208', '2128', '8215']]\n",
      "List 1 contains 10 IDs.\n",
      "List 2 contains 10 IDs.\n",
      "List 3 contains 4 IDs.\n",
      "List 4 contains 7 IDs.\n",
      "List 5 contains 10 IDs.\n",
      "List 6 contains 10 IDs.\n",
      "List 7 contains 10 IDs.\n",
      "List 8 contains 6 IDs.\n",
      "Total number of IDs in selected_values: 67\n",
      "['3566', '2291', '3397', '5403', '40', '3894', '993', '6337', '7798', '6219', '7813', '8125', '5024', '1690', '4903', '6844', '4237', '2723', '1772', '34', '4559', '5340', '4652', '1122', '4002', '4207', '9993', '8969', '5724', '1708', '7329', '7859', '3114', '1957', '7188', '1030', '9007', '1008', '2176', '2156', '4772', '8929', '6198', '5992', '5838', '3252', '7549', '9210', '8004', '9940', '9979', '2739', '4680', '2585', '920', '474', '8309', '2074', '9815', '482', '4902', '5777', '7334', '6738', '4208', '2128', '8215']\n"
     ]
    }
   ],
   "source": [
    "Caucasian_Male = ['3566', '2291', '3397', '5403', '40', '3894', '993', '6337', '7798', '6219', '7517', '1897', '5500', '1768', '9996', '1790', '9105', '8103', '8833', '1125', '7269', '1515', '5734', '5327', '7354', '9262', '3074', '4765', '9831', '8473', '4995', '9662', '5169', '2575', '3785', '8452', '7845', '6418', '7370', '1860', '6248', '4124', '1454', '1673', '5109', '4968', '9839', '2548', '4791', '2967', '8471', '8367', '785', '6155', '3385', '3773', '6869', '2576', '6292', '8489', '5121', '8657', '4974', '7740', '5199', '1157', '2272', '1667', '5084', '2507', '8405', '5824', '7585', '2503', '3168', '3328', '6010', '1084', '5587', '4148', '7087', '7235', '9663', '9347', '1119', '4502', '2444', '1163', '3676', '9430', '1714', '8054']\n",
    "Caucasian_Female = ['7813', '8125', '5024', '1690', '4903', '6844', '4237', '2723', '1772', '34', '9388', '7486', '7615', '3047', '7642', '7505', '7551', '8813', '8533', '2927', '8710', '6321', '5230', '1933', '9738', '7426', '1388', '3616', '968', '4796', '5344', '6183', '9769', '4747', '6816', '3809', '4296', '5957', '8009', '6972', '8905', '6983', '4463', '5685', '1940', '4251', '7099', '59', '5015', '8418', '1398', '6627', '9733', '6417', '9464', '6677', '3219', '6333', '8951', '5083', '8856', '7741', '6906', '7717', '2264', '7206', '9001', '6250', '7582', '7070', '7287']\n",
    "Indian_Male = ['4559', '5340', '4652', '1122']\n",
    "Indian_Female = ['4002', '4207', '9993', '8969', '5724', '1708', '7329']\n",
    "Asian_Male = ['7859', '3114', '1957', '7188', '1030', '9007', '1008', '2176', '2156', '4772']\n",
    "Asian_Female = ['8929', '6198', '5992', '5838', '3252', '7549', '9210', '8004', '9940', '9979']\n",
    "African_Male = ['2739', '4680', '2585', '920', '474', '8309', '2074', '9815', '482', '4902', '7400', '9400']\n",
    "African_Female = ['5777', '7334', '6738', '4208', '2128', '8215']\n",
    "\n",
    "# 各リストから最初の10個の要素を選択\n",
    "selected_Caucasian_Male = Caucasian_Male[:10]\n",
    "selected_Caucasian_Female = Caucasian_Female[:10]\n",
    "selected_Indian_Male = Indian_Male[:10]\n",
    "selected_Indian_Female = Indian_Female[:10]\n",
    "selected_Asian_Male = Asian_Male[:10]\n",
    "selected_Asian_Female = Asian_Female[:10]\n",
    "selected_African_Male = African_Male[:10]\n",
    "selected_African_Female = African_Female[:10]\n",
    "\n",
    "# 新しいリストに格納\n",
    "selected_values = [selected_Caucasian_Male, selected_Caucasian_Female, selected_Indian_Male, selected_Indian_Female, selected_Asian_Male, selected_Asian_Female, selected_African_Male, selected_African_Female]\n",
    "\n",
    "print(selected_values)\n",
    "# 各リストの長さを表示\n",
    "for i, id_list in enumerate(selected_values):\n",
    "    print(f\"List {i+1} contains {len(id_list)} IDs.\")\n",
    "    \n",
    "# 全てのIDの合計数を計算\n",
    "total_ids = sum(len(id_list) for id_list in selected_values)\n",
    "\n",
    "print(f\"Total number of IDs in selected_values: {total_ids}\")\n",
    "\n",
    "# すべてのIDを単一のリストに結合\n",
    "all_ids = [id for id_list in selected_values for id in id_list]\n",
    "\n",
    "print(all_ids)"
   ]
  },
  {
   "cell_type": "code",
   "execution_count": 29,
   "metadata": {},
   "outputs": [
    {
     "name": "stdout",
     "output_type": "stream",
     "text": [
      "Number of pairs: 8911\n"
     ]
    }
   ],
   "source": [
    "# For each ID, randomly select 2 images\n",
    "selected_images = {id: random.sample([f\"{base_path}/{id}/{img}\" for img in image_ids], 2) for id in all_ids}\n",
    "\n",
    "# Flatten the dictionary into a list of all images\n",
    "all_images = [img for sublist in selected_images.values() for img in sublist]\n",
    "\n",
    "# Generate all combinations of 2 images\n",
    "image_pairs = list(itertools.combinations(all_images, 2))\n",
    "\n",
    "# Label the pairs and write them to a file\n",
    "with open('/workspace/dataset/my_val_script/pair_list.txt', 'w') as f:\n",
    "    for img1, img2 in image_pairs:\n",
    "        id1 = img1.split('/')[-2]\n",
    "        id2 = img2.split('/')[-2]\n",
    "        label = 1 if id1 == id2 else 0\n",
    "        f.write(f\"{img1};{img2} {label}\\n\")\n",
    "\n",
    "# Open the file\n",
    "with open('/workspace/dataset/my_val_script/pair_list.txt', 'r') as f:\n",
    "    lines = f.readlines()\n",
    "\n",
    "# Display the number of pairs (number of lines)\n",
    "print(f\"Number of pairs: {len(lines)}\")"
   ]
  },
  {
   "cell_type": "code",
   "execution_count": 23,
   "metadata": {},
   "outputs": [
    {
     "name": "stdout",
     "output_type": "stream",
     "text": [
      "Number of pairs: 5609575\n"
     ]
    }
   ],
   "source": [
    "# For each ID, select all images\n",
    "selected_images = {id: [f\"{base_path}/{id}/{img}\" for img in image_ids] for id in all_ids}\n",
    "\n",
    "# Flatten the dictionary into a list of all images\n",
    "all_images = [img for sublist in selected_images.values() for img in sublist]\n",
    "\n",
    "# Generate all combinations of 2 images\n",
    "image_pairs = list(itertools.combinations(all_images, 2))\n",
    "\n",
    "# Label the pairs and write them to a file\n",
    "with open('/workspace/dataset/my_val_script/pair_list_all.txt', 'w') as f:\n",
    "    for img1, img2 in image_pairs:\n",
    "        id1 = img1.split('/')[-2]\n",
    "        id2 = img2.split('/')[-2]\n",
    "        label = 1 if id1 == id2 else 0\n",
    "        f.write(f\"{img1};{img2} {label}\\n\")\n",
    "\n",
    "# Open the file\n",
    "with open('/workspace/dataset/my_val_script/pair_list_all.txt', 'r') as f:\n",
    "    lines = f.readlines()\n",
    "\n",
    "# Display the number of pairs (number of lines)\n",
    "print(f\"Number of pairs: {len(lines)}\")"
   ]
  }
 ],
 "metadata": {
  "kernelspec": {
   "display_name": "Python 3",
   "language": "python",
   "name": "python3"
  },
  "language_info": {
   "codemirror_mode": {
    "name": "ipython",
    "version": 3
   },
   "file_extension": ".py",
   "mimetype": "text/x-python",
   "name": "python",
   "nbconvert_exporter": "python",
   "pygments_lexer": "ipython3",
   "version": "2.7.0"
  }
 },
 "nbformat": 4,
 "nbformat_minor": 2
}
